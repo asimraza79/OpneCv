{
 "cells": [
  {
   "cell_type": "markdown",
   "id": "6f395b99",
   "metadata": {},
   "source": [
    "# Text ON Image"
   ]
  },
  {
   "cell_type": "code",
   "execution_count": 19,
   "id": "ae82c98f",
   "metadata": {},
   "outputs": [],
   "source": [
    "import cv2\n",
    "import numpy as np\n",
    "\n",
    "path= r\"\"\"C:\\Users\\RANA ASIM\\Pictures\\Camera Roll\"\"\"\n",
    "\n",
    "img_name= \"download.jpg\"\n",
    "\n",
    "img= cv2.imread(path + '\\\\' + img_name)\n",
    "\n",
    "image= cv2.resize(img,(1280,720))\n",
    "\n",
    "text ='Grapes'\n",
    "\n",
    "org=(100,200)\n",
    "\n",
    "font=cv2.FONT_HERSHEY_COMPLEX\n",
    "\n",
    "fontScale=6\n",
    "\n",
    "color=(0,0,255)\n",
    "\n",
    "thickness=3\n",
    "\n",
    "linetype=cv2.LINE_AA\n",
    "\n",
    "bottomLeftOrigin=False\n",
    "\n",
    "img_text=cv2.putText(img, text , org, font , fontScale , color , thickness , linetype , bottomLeftOrigin)\n",
    "\n",
    "cv2.imshow('Text Image', img_text)\n",
    "\n",
    "cv2.waitKey(0)\n",
    "\n",
    "cv2.destroyAllWindows()"
   ]
  },
  {
   "cell_type": "code",
   "execution_count": null,
   "id": "8bc634cb",
   "metadata": {},
   "outputs": [],
   "source": []
  }
 ],
 "metadata": {
  "kernelspec": {
   "display_name": "Python 3 (ipykernel)",
   "language": "python",
   "name": "python3"
  },
  "language_info": {
   "codemirror_mode": {
    "name": "ipython",
    "version": 3
   },
   "file_extension": ".py",
   "mimetype": "text/x-python",
   "name": "python",
   "nbconvert_exporter": "python",
   "pygments_lexer": "ipython3",
   "version": "3.7.16"
  }
 },
 "nbformat": 4,
 "nbformat_minor": 5
}
