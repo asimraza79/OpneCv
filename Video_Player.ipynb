{
 "cells": [
  {
   "cell_type": "code",
   "execution_count": 29,
   "id": "805f0922",
   "metadata": {},
   "outputs": [],
   "source": [
    "import numpy as np\n",
    "import cv2"
   ]
  },
  {
   "cell_type": "code",
   "execution_count": 21,
   "id": "2d906899",
   "metadata": {},
   "outputs": [],
   "source": [
    "path1=r'C:\\Users\\RANA ASIM\\Videos\\My videos\\Asim (1).mp4'\n",
    "path2=r'C:\\Users\\RANA ASIM\\Videos\\My videos\\Asim (2).mp4'\n"
   ]
  },
  {
   "cell_type": "code",
   "execution_count": 22,
   "id": "cd82892c",
   "metadata": {},
   "outputs": [],
   "source": [
    "cap= cv2.VideoCapture(path2)\n",
    "\n",
    "while cap.isOpened():\n",
    "    ret, frame= cap.read()\n",
    "    if ret:\n",
    "        image= cv2.resize(frame, (600,400))\n",
    "        cv2.imshow('Video Player',image)\n",
    "        \n",
    "        if cv2.waitKey(25) & 0xff ==ord('q'):\n",
    "            break\n",
    "    else:\n",
    "        break\n",
    "            \n",
    "cap.release()\n",
    "cv2.destroyAllWindows()"
   ]
  },
  {
   "cell_type": "code",
   "execution_count": 32,
   "id": "344c6456",
   "metadata": {},
   "outputs": [
    {
     "ename": "SyntaxError",
     "evalue": "invalid syntax (2688127363.py, line 9)",
     "output_type": "error",
     "traceback": [
      "\u001b[1;36m  File \u001b[1;32m\"C:\\Users\\RANA ASIM\\AppData\\Local\\Temp\\ipykernel_8660\\2688127363.py\"\u001b[1;36m, line \u001b[1;32m9\u001b[0m\n\u001b[1;33m    frame_4 = np.vstack((frame_2, frame_2))\u001b[0m\n\u001b[1;37m          ^\u001b[0m\n\u001b[1;31mSyntaxError\u001b[0m\u001b[1;31m:\u001b[0m invalid syntax\n"
     ]
    }
   ],
   "source": [
    "cap= cv2.VideoCapture(path2)\n",
    "\n",
    "while cap.isOpened():\n",
    "    ret, frame= cap.read()\n",
    "    if ret:\n",
    "        frame= cv2.resize(frame, (600,400))\n",
    "        \n",
    "        frame_2 = np.hstack((frame, frame)\n",
    "        frame_4 = np.vstack((frame_2, frame_2))\n",
    "                          \n",
    "        cv2.imshow('Video Player',frame_4)\n",
    "        \n",
    "        if cv2.waitKey(25) & 0xff ==ord('q'):\n",
    "            break\n",
    "    else:\n",
    "        break\n",
    "            \n",
    "cap.release()\n",
    "cv2.destroyAllWindows()"
   ]
  },
  {
   "cell_type": "code",
   "execution_count": null,
   "id": "7edec00d",
   "metadata": {},
   "outputs": [],
   "source": []
  }
 ],
 "metadata": {
  "kernelspec": {
   "display_name": "Python 3 (ipykernel)",
   "language": "python",
   "name": "python3"
  },
  "language_info": {
   "codemirror_mode": {
    "name": "ipython",
    "version": 3
   },
   "file_extension": ".py",
   "mimetype": "text/x-python",
   "name": "python",
   "nbconvert_exporter": "python",
   "pygments_lexer": "ipython3",
   "version": "3.7.16"
  }
 },
 "nbformat": 4,
 "nbformat_minor": 5
}
