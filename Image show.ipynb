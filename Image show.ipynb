{
 "cells": [
  {
   "cell_type": "code",
   "execution_count": 1,
   "id": "2d400123",
   "metadata": {},
   "outputs": [],
   "source": [
    "import cv2\n",
    "import matplotlib.pyplot as plt\n"
   ]
  },
  {
   "cell_type": "code",
   "execution_count": 2,
   "id": "bdaa980b",
   "metadata": {},
   "outputs": [],
   "source": [
    "path= r\"\"\"C:\\Users\\RANA ASIM\\Pictures\\Camera Roll\"\"\"\n",
    "img_name= \"download (1).jpg\"\n",
    "\n",
    "img= cv2.imread(path + '\\\\' + img_name)\n",
    "\n",
    "cv2.imshow('Window', img)\n",
    "\n",
    "cv2.waitKey(0)\n",
    "\n",
    "cv2.destroyAllWindows()"
   ]
  },
  {
   "cell_type": "markdown",
   "id": "e97f7e68",
   "metadata": {},
   "source": [
    "# Resize Image"
   ]
  },
  {
   "cell_type": "code",
   "execution_count": 11,
   "id": "fa7368ee",
   "metadata": {},
   "outputs": [],
   "source": [
    "\n",
    "img= cv2.imread(path + '\\\\' + img_name)\n",
    "\n",
    "img=cv2.resize(img,(600,400))\n",
    "\n",
    "cv2.imshow('Window', img)\n",
    "\n",
    "cv2.waitKey(0)\n",
    "\n",
    "cv2.destroyAllWindows()"
   ]
  }
 ],
 "metadata": {
  "kernelspec": {
   "display_name": "Python 3 (ipykernel)",
   "language": "python",
   "name": "python3"
  },
  "language_info": {
   "codemirror_mode": {
    "name": "ipython",
    "version": 3
   },
   "file_extension": ".py",
   "mimetype": "text/x-python",
   "name": "python",
   "nbconvert_exporter": "python",
   "pygments_lexer": "ipython3",
   "version": "3.7.16"
  }
 },
 "nbformat": 4,
 "nbformat_minor": 5
}
