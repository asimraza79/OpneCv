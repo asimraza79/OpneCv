{
 "cells": [
  {
   "cell_type": "markdown",
   "id": "859658d3",
   "metadata": {},
   "source": [
    "# Rectangle on Image"
   ]
  },
  {
   "cell_type": "code",
   "execution_count": 29,
   "id": "b01d8cef",
   "metadata": {},
   "outputs": [],
   "source": [
    "import cv2\n",
    "import numpy as np\n",
    "\n",
    "path= r\"\"\"C:\\Users\\RANA ASIM\\Pictures\\Camera Roll\"\"\"\n",
    "\n",
    "img_name= \"Model.jpg\"\n",
    "\n",
    "img= cv2.imread(path + '\\\\' + img_name)\n",
    "\n",
    "image= cv2.resize(img,(600,400))\n",
    "\n",
    "pt1=(400,40)\n",
    "pt2=(800,300)\n",
    "color=(0,255,0)\n",
    "thickness= 4\n",
    "\n",
    "img_rect= cv2.rectangle(img, pt1, pt2, color, thickness )\n",
    "\n",
    "cv2.imshow('Rectangle on Image', img_rect)\n",
    "\n",
    "cv2.waitKey(0)\n",
    "\n",
    "cv2.destroyAllWindows()\n"
   ]
  },
  {
   "cell_type": "markdown",
   "id": "f6b03d39",
   "metadata": {},
   "source": [
    "# Fill Rectangle"
   ]
  },
  {
   "cell_type": "code",
   "execution_count": 28,
   "id": "94e15351",
   "metadata": {},
   "outputs": [],
   "source": [
    "path= r\"\"\"C:\\Users\\RANA ASIM\\Pictures\\Camera Roll\"\"\"\n",
    "\n",
    "img_name= \"Model1.jpg\"\n",
    "\n",
    "img= cv2.imread(path + '\\\\' + img_name)\n",
    "\n",
    "image= cv2.resize(img,(1280,720))\n",
    "\n",
    "pt1=(400,40)\n",
    "pt2=(800,300)\n",
    "color=(255,0 ,0)\n",
    "thickness= -1\n",
    "\n",
    "img_rect= cv2.rectangle(img, pt1, pt2, color, thickness )\n",
    "\n",
    "cv2.imshow('Rectangle on Image', img_rect)\n",
    "\n",
    "cv2.waitKey(0)\n",
    "\n",
    "cv2.destroyAllWindows()"
   ]
  },
  {
   "cell_type": "code",
   "execution_count": null,
   "id": "9ea6fcb6",
   "metadata": {},
   "outputs": [],
   "source": []
  }
 ],
 "metadata": {
  "kernelspec": {
   "display_name": "Python 3 (ipykernel)",
   "language": "python",
   "name": "python3"
  },
  "language_info": {
   "codemirror_mode": {
    "name": "ipython",
    "version": 3
   },
   "file_extension": ".py",
   "mimetype": "text/x-python",
   "name": "python",
   "nbconvert_exporter": "python",
   "pygments_lexer": "ipython3",
   "version": "3.7.16"
  }
 },
 "nbformat": 4,
 "nbformat_minor": 5
}
