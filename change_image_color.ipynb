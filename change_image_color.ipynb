{
 "cells": [
  {
   "cell_type": "markdown",
   "id": "25ccbebb",
   "metadata": {},
   "source": [
    "# Colour Image"
   ]
  },
  {
   "cell_type": "code",
   "execution_count": 1,
   "id": "724f1664",
   "metadata": {},
   "outputs": [],
   "source": [
    "import cv2\n",
    "import numpy as np\n",
    "\n",
    "path= r\"\"\"C:\\Users\\RANA ASIM\\Pictures\\Camera Roll\"\"\"\n",
    "\n",
    "img_name= \"Model.jpg\"\n",
    "\n",
    "img= cv2.imread(path + '\\\\' + img_name)\n",
    "\n",
    "image= cv2.resize(img,(1280,720))\n",
    "\n",
    "cv2.imshow('Colour Image', image)\n",
    "\n",
    "cv2.waitKey(0)\n",
    "\n",
    "cv2.destroyAllWindows()"
   ]
  },
  {
   "cell_type": "markdown",
   "id": "679ffce0",
   "metadata": {},
   "source": [
    "# Convert Colour of Image"
   ]
  },
  {
   "cell_type": "code",
   "execution_count": 2,
   "id": "94dca1b3",
   "metadata": {},
   "outputs": [],
   "source": [
    "path= r\"\"\"C:\\Users\\RANA ASIM\\Pictures\\Camera Roll\"\"\"\n",
    "\n",
    "img_name= \"Model.jpg\"\n",
    "\n",
    "img= cv2.imread(path + '\\\\' + img_name)\n",
    "\n",
    "image= cv2.resize(img,(1280,720))\n",
    "\n",
    "img_gray = cv2.cvtColor(image, cv2.COLOR_BGR2GRAY)\n",
    "\n",
    "cv2.imshow('Colour Image', img_gray )\n",
    "\n",
    "cv2.waitKey(0)\n",
    "\n",
    "cv2.destroyAllWindows()"
   ]
  },
  {
   "cell_type": "code",
   "execution_count": null,
   "id": "300f667c",
   "metadata": {},
   "outputs": [],
   "source": []
  }
 ],
 "metadata": {
  "kernelspec": {
   "display_name": "Python 3 (ipykernel)",
   "language": "python",
   "name": "python3"
  },
  "language_info": {
   "codemirror_mode": {
    "name": "ipython",
    "version": 3
   },
   "file_extension": ".py",
   "mimetype": "text/x-python",
   "name": "python",
   "nbconvert_exporter": "python",
   "pygments_lexer": "ipython3",
   "version": "3.7.16"
  }
 },
 "nbformat": 4,
 "nbformat_minor": 5
}
