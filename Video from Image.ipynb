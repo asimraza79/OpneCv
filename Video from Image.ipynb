{
 "cells": [
  {
   "cell_type": "markdown",
   "id": "a6d67920",
   "metadata": {},
   "source": [
    "# Video from Numpy Array"
   ]
  },
  {
   "cell_type": "code",
   "execution_count": 1,
   "id": "77ca4cf2",
   "metadata": {},
   "outputs": [],
   "source": [
    "import cv2\n",
    "import numpy as np\n",
    "import os"
   ]
  },
  {
   "cell_type": "code",
   "execution_count": 7,
   "id": "007a3571",
   "metadata": {},
   "outputs": [],
   "source": [
    "height=1280\n",
    "width=720\n",
    "channel=3\n",
    "\n",
    "fps=30\n",
    "sec=5\n",
    "\n",
    "fourcc=cv2.VideoWriter_fourcc(*'MP42')\n",
    "\n",
    "video= cv2.VideoWriter('test.mp4', fourcc, float(fps), (width,height))\n",
    "\n",
    "for frame_count in range(fps*sec):\n",
    "    img = np.random.randint(0,255,(height, width, channel), dtype=np.uint8)\n",
    "    video.write(img)\n",
    "    \n",
    "video.release()\n",
    "    "
   ]
  },
  {
   "cell_type": "markdown",
   "id": "3fb80dbe",
   "metadata": {},
   "source": [
    "# Video from Image"
   ]
  },
  {
   "cell_type": "code",
   "execution_count": 5,
   "id": "4430c6b1",
   "metadata": {},
   "outputs": [],
   "source": [
    "height=1280\n",
    "width=720\n",
    "channel=3\n",
    "\n",
    "fps= 10\n",
    "sec= 5\n",
    "\n",
    "fourcc=cv2.VideoWriter_fourcc(*'MP42')\n",
    "\n",
    "video= cv2.VideoWriter('img_to_video.mp4', fourcc, float(fps), (width,height))\n",
    "\n",
    "#for frame_count in range(fps*sec):\n",
    "    #img = np.random.randint(0,255,(height, width, channel), dtype=np.uint8)\n",
    "    #video.write(img)\n",
    "directory=r'C:\\Users\\RANA ASIM\\Pictures\\Camera Roll'\n",
    "\n",
    "img_name_list= os.listdir(directory)\n",
    "\n",
    "for frame_count in range(fps*sec):\n",
    "    \n",
    "    img_name=np.random.choice(img_name_list)\n",
    "    img_path= os.path.join(directory, img_name)\n",
    "    img= cv2.imread(img_path)\n",
    "    #img_resize= cv2.resize(img, (width, height))\n",
    "    \n",
    "    video.write(img)\n",
    "    \n",
    "    \n",
    "video.release()\n",
    "    "
   ]
  },
  {
   "cell_type": "code",
   "execution_count": null,
   "id": "fb75b3f0",
   "metadata": {},
   "outputs": [],
   "source": []
  }
 ],
 "metadata": {
  "kernelspec": {
   "display_name": "Python 3 (ipykernel)",
   "language": "python",
   "name": "python3"
  },
  "language_info": {
   "codemirror_mode": {
    "name": "ipython",
    "version": 3
   },
   "file_extension": ".py",
   "mimetype": "text/x-python",
   "name": "python",
   "nbconvert_exporter": "python",
   "pygments_lexer": "ipython3",
   "version": "3.7.16"
  }
 },
 "nbformat": 4,
 "nbformat_minor": 5
}
